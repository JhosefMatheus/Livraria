{
 "cells": [
  {
   "cell_type": "code",
   "execution_count": 32,
   "source": [
    "import pandas as pd\r\n",
    "import numpy as np\r\n",
    "from db_manager import db_manager"
   ],
   "outputs": [],
   "metadata": {}
  },
  {
   "cell_type": "code",
   "execution_count": 2,
   "source": [
    "db = db_manager()"
   ],
   "outputs": [],
   "metadata": {}
  },
  {
   "cell_type": "code",
   "execution_count": 6,
   "source": [
    "df = pd.read_csv('livros.csv')"
   ],
   "outputs": [],
   "metadata": {}
  },
  {
   "cell_type": "code",
   "execution_count": 7,
   "source": [
    "df"
   ],
   "outputs": [
    {
     "output_type": "execute_result",
     "data": {
      "text/html": [
       "<div>\n",
       "<style scoped>\n",
       "    .dataframe tbody tr th:only-of-type {\n",
       "        vertical-align: middle;\n",
       "    }\n",
       "\n",
       "    .dataframe tbody tr th {\n",
       "        vertical-align: top;\n",
       "    }\n",
       "\n",
       "    .dataframe thead th {\n",
       "        text-align: right;\n",
       "    }\n",
       "</style>\n",
       "<table border=\"1\" class=\"dataframe\">\n",
       "  <thead>\n",
       "    <tr style=\"text-align: right;\">\n",
       "      <th></th>\n",
       "      <th>id</th>\n",
       "      <th>titulo</th>\n",
       "      <th>autor</th>\n",
       "      <th>editora</th>\n",
       "      <th>n_pag</th>\n",
       "      <th>situacao</th>\n",
       "      <th>beneficiado</th>\n",
       "      <th>telefone</th>\n",
       "      <th>dt_emprestimo</th>\n",
       "      <th>dt_devolucao</th>\n",
       "    </tr>\n",
       "  </thead>\n",
       "  <tbody>\n",
       "    <tr>\n",
       "      <th>0</th>\n",
       "      <td>1</td>\n",
       "      <td>Patriarcas e Profetas</td>\n",
       "      <td>Ellen G. White</td>\n",
       "      <td>CPB - Casa Publicadora Brasileira</td>\n",
       "      <td>873</td>\n",
       "      <td>Disponível</td>\n",
       "      <td>NaN</td>\n",
       "      <td>NaN</td>\n",
       "      <td>NaN</td>\n",
       "      <td>NaN</td>\n",
       "    </tr>\n",
       "    <tr>\n",
       "      <th>1</th>\n",
       "      <td>2</td>\n",
       "      <td>Profetas e Reis</td>\n",
       "      <td>Ellen G. White</td>\n",
       "      <td>CPB - Casa Publicadora Brasileira</td>\n",
       "      <td>864</td>\n",
       "      <td>Disponível</td>\n",
       "      <td>NaN</td>\n",
       "      <td>NaN</td>\n",
       "      <td>NaN</td>\n",
       "      <td>NaN</td>\n",
       "    </tr>\n",
       "    <tr>\n",
       "      <th>2</th>\n",
       "      <td>3</td>\n",
       "      <td>O Desejado de Todas as Nações</td>\n",
       "      <td>Ellen G. White</td>\n",
       "      <td>CPB - Casa Publicadora Brasileira</td>\n",
       "      <td>895</td>\n",
       "      <td>Disponível</td>\n",
       "      <td>NaN</td>\n",
       "      <td>NaN</td>\n",
       "      <td>NaN</td>\n",
       "      <td>NaN</td>\n",
       "    </tr>\n",
       "    <tr>\n",
       "      <th>3</th>\n",
       "      <td>4</td>\n",
       "      <td>Atos dos Apóstolos</td>\n",
       "      <td>Ellen G. White</td>\n",
       "      <td>CPB - Casa Publicadora Brasileira</td>\n",
       "      <td>700</td>\n",
       "      <td>Disponível</td>\n",
       "      <td>NaN</td>\n",
       "      <td>NaN</td>\n",
       "      <td>NaN</td>\n",
       "      <td>NaN</td>\n",
       "    </tr>\n",
       "    <tr>\n",
       "      <th>4</th>\n",
       "      <td>5</td>\n",
       "      <td>O Grande Conflito</td>\n",
       "      <td>Ellen G. White</td>\n",
       "      <td>CPB - Casa Publicadora Brasileira</td>\n",
       "      <td>900</td>\n",
       "      <td>Disponível</td>\n",
       "      <td>NaN</td>\n",
       "      <td>NaN</td>\n",
       "      <td>NaN</td>\n",
       "      <td>NaN</td>\n",
       "    </tr>\n",
       "  </tbody>\n",
       "</table>\n",
       "</div>"
      ],
      "text/plain": [
       "   id                         titulo           autor  \\\n",
       "0   1          Patriarcas e Profetas  Ellen G. White   \n",
       "1   2                Profetas e Reis  Ellen G. White   \n",
       "2   3  O Desejado de Todas as Nações  Ellen G. White   \n",
       "3   4             Atos dos Apóstolos  Ellen G. White   \n",
       "4   5              O Grande Conflito  Ellen G. White   \n",
       "\n",
       "                             editora  n_pag    situacao  beneficiado  \\\n",
       "0  CPB - Casa Publicadora Brasileira    873  Disponível          NaN   \n",
       "1  CPB - Casa Publicadora Brasileira    864  Disponível          NaN   \n",
       "2  CPB - Casa Publicadora Brasileira    895  Disponível          NaN   \n",
       "3  CPB - Casa Publicadora Brasileira    700  Disponível          NaN   \n",
       "4  CPB - Casa Publicadora Brasileira    900  Disponível          NaN   \n",
       "\n",
       "   telefone  dt_emprestimo  dt_devolucao  \n",
       "0       NaN            NaN           NaN  \n",
       "1       NaN            NaN           NaN  \n",
       "2       NaN            NaN           NaN  \n",
       "3       NaN            NaN           NaN  \n",
       "4       NaN            NaN           NaN  "
      ]
     },
     "metadata": {},
     "execution_count": 7
    }
   ],
   "metadata": {}
  },
  {
   "cell_type": "code",
   "execution_count": 39,
   "source": [
    "resultado = df.loc[df['editora'] == 'CPB - Casa Publicadora Brasileira'].where(df['situacao'] == 'Emprestado')"
   ],
   "outputs": [
    {
     "output_type": "execute_result",
     "data": {
      "text/html": [
       "<div>\n",
       "<style scoped>\n",
       "    .dataframe tbody tr th:only-of-type {\n",
       "        vertical-align: middle;\n",
       "    }\n",
       "\n",
       "    .dataframe tbody tr th {\n",
       "        vertical-align: top;\n",
       "    }\n",
       "\n",
       "    .dataframe thead th {\n",
       "        text-align: right;\n",
       "    }\n",
       "</style>\n",
       "<table border=\"1\" class=\"dataframe\">\n",
       "  <thead>\n",
       "    <tr style=\"text-align: right;\">\n",
       "      <th></th>\n",
       "      <th>id</th>\n",
       "      <th>titulo</th>\n",
       "      <th>autor</th>\n",
       "      <th>editora</th>\n",
       "      <th>n_pag</th>\n",
       "      <th>situacao</th>\n",
       "      <th>beneficiado</th>\n",
       "      <th>telefone</th>\n",
       "      <th>dt_emprestimo</th>\n",
       "      <th>dt_devolucao</th>\n",
       "    </tr>\n",
       "  </thead>\n",
       "  <tbody>\n",
       "  </tbody>\n",
       "</table>\n",
       "</div>"
      ],
      "text/plain": [
       "Empty DataFrame\n",
       "Columns: [id, titulo, autor, editora, n_pag, situacao, beneficiado, telefone, dt_emprestimo, dt_devolucao]\n",
       "Index: []"
      ]
     },
     "metadata": {},
     "execution_count": 39
    }
   ],
   "metadata": {}
  },
  {
   "cell_type": "code",
   "execution_count": 36,
   "source": [],
   "outputs": [
    {
     "output_type": "execute_result",
     "data": {
      "text/plain": [
       "array([], dtype=float64)"
      ]
     },
     "metadata": {},
     "execution_count": 36
    }
   ],
   "metadata": {}
  }
 ],
 "metadata": {
  "orig_nbformat": 4,
  "language_info": {
   "name": "python",
   "version": "3.9.5",
   "mimetype": "text/x-python",
   "codemirror_mode": {
    "name": "ipython",
    "version": 3
   },
   "pygments_lexer": "ipython3",
   "nbconvert_exporter": "python",
   "file_extension": ".py"
  },
  "kernelspec": {
   "name": "python3",
   "display_name": "Python 3.9.5 64-bit"
  },
  "interpreter": {
   "hash": "6a7d6ab876b9185e3d8b014fb66fe83b462d5dbd30e2289e5e3f0420c989e0ff"
  }
 },
 "nbformat": 4,
 "nbformat_minor": 2
}