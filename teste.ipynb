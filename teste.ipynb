{
 "cells": [
  {
   "cell_type": "code",
   "execution_count": 48,
   "metadata": {},
   "outputs": [],
   "source": [
    "from db_manager import db_manager\n",
    "import pandas as pd\n",
    "from datetime import date"
   ]
  },
  {
   "cell_type": "code",
   "execution_count": 58,
   "metadata": {},
   "outputs": [],
   "source": [
    "df_dvds = pd.read_csv('dvds.csv')\n",
    "df_diretores_dvds = pd.read_csv('diretores_dvds.csv')\n",
    "df_distribuidoras_dvds = pd.read_csv('distribuidoras_dvds.csv')"
   ]
  },
  {
   "cell_type": "code",
   "execution_count": 60,
   "metadata": {},
   "outputs": [
    {
     "data": {
      "text/html": [
       "<div>\n",
       "<style scoped>\n",
       "    .dataframe tbody tr th:only-of-type {\n",
       "        vertical-align: middle;\n",
       "    }\n",
       "\n",
       "    .dataframe tbody tr th {\n",
       "        vertical-align: top;\n",
       "    }\n",
       "\n",
       "    .dataframe thead th {\n",
       "        text-align: right;\n",
       "    }\n",
       "</style>\n",
       "<table border=\"1\" class=\"dataframe\">\n",
       "  <thead>\n",
       "    <tr style=\"text-align: right;\">\n",
       "      <th></th>\n",
       "      <th>id</th>\n",
       "      <th>titulo</th>\n",
       "      <th>diretor</th>\n",
       "      <th>distribuidora</th>\n",
       "      <th>tempo</th>\n",
       "      <th>situacao</th>\n",
       "      <th>beneficiado</th>\n",
       "      <th>telefone</th>\n",
       "      <th>dt_emprestimo</th>\n",
       "      <th>dt_devolucao</th>\n",
       "    </tr>\n",
       "  </thead>\n",
       "  <tbody>\n",
       "    <tr>\n",
       "      <th>0</th>\n",
       "      <td>1</td>\n",
       "      <td>jhosef</td>\n",
       "      <td>matheus</td>\n",
       "      <td>medeiros</td>\n",
       "      <td>nobrega</td>\n",
       "      <td>Disponível</td>\n",
       "      <td>NaN</td>\n",
       "      <td>NaN</td>\n",
       "      <td>NaN</td>\n",
       "      <td>NaN</td>\n",
       "    </tr>\n",
       "    <tr>\n",
       "      <th>1</th>\n",
       "      <td>2</td>\n",
       "      <td>Rubens</td>\n",
       "      <td>Gabriel</td>\n",
       "      <td>medeiros</td>\n",
       "      <td>Nobrega</td>\n",
       "      <td>Disponível</td>\n",
       "      <td>NaN</td>\n",
       "      <td>NaN</td>\n",
       "      <td>NaN</td>\n",
       "      <td>NaN</td>\n",
       "    </tr>\n",
       "  </tbody>\n",
       "</table>\n",
       "</div>"
      ],
      "text/plain": [
       "   id  titulo  diretor distribuidora    tempo    situacao  beneficiado  \\\n",
       "0   1  jhosef  matheus      medeiros  nobrega  Disponível          NaN   \n",
       "1   2  Rubens  Gabriel      medeiros  Nobrega  Disponível          NaN   \n",
       "\n",
       "   telefone  dt_emprestimo  dt_devolucao  \n",
       "0       NaN            NaN           NaN  \n",
       "1       NaN            NaN           NaN  "
      ]
     },
     "execution_count": 60,
     "metadata": {},
     "output_type": "execute_result"
    }
   ],
   "source": [
    "df_dvds"
   ]
  },
  {
   "cell_type": "code",
   "execution_count": 61,
   "metadata": {},
   "outputs": [
    {
     "data": {
      "text/html": [
       "<div>\n",
       "<style scoped>\n",
       "    .dataframe tbody tr th:only-of-type {\n",
       "        vertical-align: middle;\n",
       "    }\n",
       "\n",
       "    .dataframe tbody tr th {\n",
       "        vertical-align: top;\n",
       "    }\n",
       "\n",
       "    .dataframe thead th {\n",
       "        text-align: right;\n",
       "    }\n",
       "</style>\n",
       "<table border=\"1\" class=\"dataframe\">\n",
       "  <thead>\n",
       "    <tr style=\"text-align: right;\">\n",
       "      <th></th>\n",
       "      <th>id</th>\n",
       "      <th>titulo</th>\n",
       "      <th>diretor</th>\n",
       "      <th>distribuidora</th>\n",
       "      <th>tempo</th>\n",
       "      <th>situacao</th>\n",
       "      <th>beneficiado</th>\n",
       "      <th>telefone</th>\n",
       "      <th>dt_emprestimo</th>\n",
       "      <th>dt_devolucao</th>\n",
       "    </tr>\n",
       "  </thead>\n",
       "  <tbody>\n",
       "    <tr>\n",
       "      <th>1</th>\n",
       "      <td>2</td>\n",
       "      <td>Rubens</td>\n",
       "      <td>Gabriel</td>\n",
       "      <td>medeiros</td>\n",
       "      <td>Nobrega</td>\n",
       "      <td>Disponível</td>\n",
       "      <td>NaN</td>\n",
       "      <td>NaN</td>\n",
       "      <td>NaN</td>\n",
       "      <td>NaN</td>\n",
       "    </tr>\n",
       "  </tbody>\n",
       "</table>\n",
       "</div>"
      ],
      "text/plain": [
       "   id  titulo  diretor distribuidora    tempo    situacao  beneficiado  \\\n",
       "1   2  Rubens  Gabriel      medeiros  Nobrega  Disponível          NaN   \n",
       "\n",
       "   telefone  dt_emprestimo  dt_devolucao  \n",
       "1       NaN            NaN           NaN  "
      ]
     },
     "execution_count": 61,
     "metadata": {},
     "output_type": "execute_result"
    }
   ],
   "source": [
    "df_dvds = df_dvds.loc[df_dvds['diretor'] != 'matheus']\n",
    "df_dvds"
   ]
  }
 ],
 "metadata": {
  "interpreter": {
   "hash": "6a7d6ab876b9185e3d8b014fb66fe83b462d5dbd30e2289e5e3f0420c989e0ff"
  },
  "kernelspec": {
   "display_name": "Python 3.9.5 64-bit",
   "name": "python3"
  },
  "language_info": {
   "codemirror_mode": {
    "name": "ipython",
    "version": 3
   },
   "file_extension": ".py",
   "mimetype": "text/x-python",
   "name": "python",
   "nbconvert_exporter": "python",
   "pygments_lexer": "ipython3",
   "version": "3.9.5"
  },
  "orig_nbformat": 4
 },
 "nbformat": 4,
 "nbformat_minor": 2
}
