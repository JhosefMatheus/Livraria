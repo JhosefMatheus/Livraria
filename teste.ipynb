{
 "cells": [
  {
   "cell_type": "code",
   "execution_count": 1,
   "metadata": {},
   "outputs": [],
   "source": [
    "import pandas as pd"
   ]
  },
  {
   "cell_type": "code",
   "execution_count": 5,
   "metadata": {},
   "outputs": [],
   "source": [
    "df = pd.read_csv('livros.csv')"
   ]
  },
  {
   "cell_type": "code",
   "execution_count": 14,
   "metadata": {},
   "outputs": [
    {
     "data": {
      "text/plain": [
       "[[1,\n",
       "  'patriarcas e profetas',\n",
       "  'ellen white',\n",
       "  'cpb',\n",
       "  123,\n",
       "  'disponível',\n",
       "  '',\n",
       "  '',\n",
       "  '',\n",
       "  ''],\n",
       " [2,\n",
       "  'patriarcas e profetas',\n",
       "  'ellen white',\n",
       "  'cpb',\n",
       "  123,\n",
       "  'disponível',\n",
       "  '',\n",
       "  '',\n",
       "  '',\n",
       "  ''],\n",
       " [3,\n",
       "  'patriarcas e profetas',\n",
       "  'ellen white',\n",
       "  'cpb',\n",
       "  123,\n",
       "  'disponível',\n",
       "  '',\n",
       "  '',\n",
       "  '',\n",
       "  ''],\n",
       " [4,\n",
       "  'patriarcas e profetas',\n",
       "  'ellen white',\n",
       "  'cpb',\n",
       "  123,\n",
       "  'disponível',\n",
       "  '',\n",
       "  '',\n",
       "  '',\n",
       "  ''],\n",
       " [5,\n",
       "  'patriarcas e profetas',\n",
       "  'ellen white',\n",
       "  'cpb',\n",
       "  123,\n",
       "  'disponível',\n",
       "  '',\n",
       "  '',\n",
       "  '',\n",
       "  ''],\n",
       " [6,\n",
       "  'patriarcas e profetas',\n",
       "  'ellen white',\n",
       "  'cpb',\n",
       "  123,\n",
       "  'disponível',\n",
       "  '',\n",
       "  '',\n",
       "  '',\n",
       "  ''],\n",
       " [7,\n",
       "  'patriarcas e profetas',\n",
       "  'ellen white',\n",
       "  'cpb',\n",
       "  123,\n",
       "  'disponível',\n",
       "  '',\n",
       "  '',\n",
       "  '',\n",
       "  ''],\n",
       " [8,\n",
       "  'patriarcas e profetas',\n",
       "  'ellen white',\n",
       "  'cpb',\n",
       "  123,\n",
       "  'disponível',\n",
       "  '',\n",
       "  '',\n",
       "  '',\n",
       "  ''],\n",
       " [9,\n",
       "  'patriarcas e profetas',\n",
       "  'ellen white',\n",
       "  'cpb',\n",
       "  123,\n",
       "  'disponível',\n",
       "  '',\n",
       "  '',\n",
       "  '',\n",
       "  ''],\n",
       " [10,\n",
       "  'patriarcas e profetas',\n",
       "  'ellen white',\n",
       "  'cpb',\n",
       "  123,\n",
       "  'disponível',\n",
       "  '',\n",
       "  '',\n",
       "  '',\n",
       "  '']]"
      ]
     },
     "execution_count": 14,
     "metadata": {},
     "output_type": "execute_result"
    }
   ],
   "source": [
    "livros = df.loc[:,'id':'dt_devolucao']\n",
    "\n",
    "livros.fillna('').values.tolist()"
   ]
  },
  {
   "cell_type": "code",
   "execution_count": 61,
   "metadata": {},
   "outputs": [
    {
     "data": {
      "text/html": [
       "<div>\n",
       "<style scoped>\n",
       "    .dataframe tbody tr th:only-of-type {\n",
       "        vertical-align: middle;\n",
       "    }\n",
       "\n",
       "    .dataframe tbody tr th {\n",
       "        vertical-align: top;\n",
       "    }\n",
       "\n",
       "    .dataframe thead th {\n",
       "        text-align: right;\n",
       "    }\n",
       "</style>\n",
       "<table border=\"1\" class=\"dataframe\">\n",
       "  <thead>\n",
       "    <tr style=\"text-align: right;\">\n",
       "      <th></th>\n",
       "      <th>id</th>\n",
       "      <th>titulo</th>\n",
       "      <th>diretor</th>\n",
       "      <th>distribuidora</th>\n",
       "      <th>tempo</th>\n",
       "      <th>situacao</th>\n",
       "      <th>beneficiado</th>\n",
       "      <th>telefone</th>\n",
       "      <th>dt_emprestimo</th>\n",
       "      <th>dt_devolucao</th>\n",
       "    </tr>\n",
       "  </thead>\n",
       "  <tbody>\n",
       "    <tr>\n",
       "      <th>1</th>\n",
       "      <td>2</td>\n",
       "      <td>Rubens</td>\n",
       "      <td>Gabriel</td>\n",
       "      <td>medeiros</td>\n",
       "      <td>Nobrega</td>\n",
       "      <td>Disponível</td>\n",
       "      <td>NaN</td>\n",
       "      <td>NaN</td>\n",
       "      <td>NaN</td>\n",
       "      <td>NaN</td>\n",
       "    </tr>\n",
       "  </tbody>\n",
       "</table>\n",
       "</div>"
      ],
      "text/plain": [
       "   id  titulo  diretor distribuidora    tempo    situacao  beneficiado  \\\n",
       "1   2  Rubens  Gabriel      medeiros  Nobrega  Disponível          NaN   \n",
       "\n",
       "   telefone  dt_emprestimo  dt_devolucao  \n",
       "1       NaN            NaN           NaN  "
      ]
     },
     "execution_count": 61,
     "metadata": {},
     "output_type": "execute_result"
    }
   ],
   "source": [
    "df_dvds = df_dvds.loc[df_dvds['diretor'] != 'matheus']\n",
    "df_dvds"
   ]
  }
 ],
 "metadata": {
  "interpreter": {
   "hash": "6a7d6ab876b9185e3d8b014fb66fe83b462d5dbd30e2289e5e3f0420c989e0ff"
  },
  "kernelspec": {
   "display_name": "Python 3.9.5 64-bit",
   "name": "python3"
  },
  "language_info": {
   "codemirror_mode": {
    "name": "ipython",
    "version": 3
   },
   "file_extension": ".py",
   "mimetype": "text/x-python",
   "name": "python",
   "nbconvert_exporter": "python",
   "pygments_lexer": "ipython3",
   "version": "3.9.5"
  },
  "orig_nbformat": 4
 },
 "nbformat": 4,
 "nbformat_minor": 2
}
